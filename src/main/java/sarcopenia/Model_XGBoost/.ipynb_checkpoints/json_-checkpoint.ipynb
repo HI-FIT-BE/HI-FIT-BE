{
 "cells": [
  {
   "cell_type": "code",
   "execution_count": 1,
   "id": "dce6a054-fb29-4b88-ad97-760e7b5ea4aa",
   "metadata": {},
   "outputs": [],
   "source": [
    "import json"
   ]
  },
  {
   "cell_type": "code",
   "execution_count": 2,
   "id": "8d045844-cabc-4cf1-a397-ffb10b6918a3",
   "metadata": {},
   "outputs": [
    {
     "data": {
      "text/plain": [
       "[{'age': 59.0,\n",
       "  'sex': 2.0,\n",
       "  'BO1': 4.0,\n",
       "  'BE5_2': 1.0,\n",
       "  'BE5_1': 1.0,\n",
       "  'BE3_11': 1.0,\n",
       "  'BE3_21': 1.0,\n",
       "  'BE3_31': 8.0,\n",
       "  'HE_PLS_1': 60.0,\n",
       "  'HE_sbp': 131.0,\n",
       "  'HE_dbp': 85.0,\n",
       "  'HE_ht': 139.9,\n",
       "  'HE_wt': 42.9,\n",
       "  'HE_wc': 85.4,\n",
       "  'HE_BMI': 21.9190568572,\n",
       "  'sm_presnt': 0.0,\n",
       "  'HE_obe': 2.0},\n",
       " {'age': 33.0,\n",
       "  'sex': 2.0,\n",
       "  'BO1': 4.0,\n",
       "  'BE5_2': 1.0,\n",
       "  'BE5_1': 1.0,\n",
       "  'BE3_11': 1.0,\n",
       "  'BE3_21': 1.0,\n",
       "  'BE3_31': 8.0,\n",
       "  'HE_PLS_1': 64.0,\n",
       "  'HE_sbp': 111.0,\n",
       "  'HE_dbp': 80.0,\n",
       "  'HE_ht': 154.7,\n",
       "  'HE_wt': 49.8,\n",
       "  'HE_wc': 62.9,\n",
       "  'HE_BMI': 20.8088804613,\n",
       "  'sm_presnt': 1.0,\n",
       "  'HE_obe': 2.0},\n",
       " {'age': 58.0,\n",
       "  'sex': 1.0,\n",
       "  'BO1': 3.0,\n",
       "  'BE5_2': 1.0,\n",
       "  'BE5_1': 1.0,\n",
       "  'BE3_11': 5.0,\n",
       "  'BE3_21': 1.0,\n",
       "  'BE3_31': 4.0,\n",
       "  'HE_PLS_1': 64.0,\n",
       "  'HE_sbp': 132.0,\n",
       "  'HE_dbp': 75.0,\n",
       "  'HE_ht': 173.9,\n",
       "  'HE_wt': 72.0,\n",
       "  'HE_wc': 84.2,\n",
       "  'HE_BMI': 23.8085711517,\n",
       "  'sm_presnt': 1.0,\n",
       "  'HE_obe': 2.0}]"
      ]
     },
     "execution_count": 2,
     "metadata": {},
     "output_type": "execute_result"
    }
   ],
   "source": [
    "with open('samples.json', 'r') as f:\n",
    "    json_data = json.load(f)\n",
    "\n",
    "json_data"
   ]
  },
  {
   "cell_type": "code",
   "execution_count": 3,
   "id": "f8d24ffb-58da-4c69-bd3b-9d0f52aae96d",
   "metadata": {},
   "outputs": [],
   "source": [
    "del_list = ['BO1','BE5_2','BE5_1','BE3_11','BE3_21','BE3_31','sm_presnt']\n",
    "for i in range(3):\n",
    "    for del_feat in del_list:\n",
    "        del json_data[i][del_feat]"
   ]
  },
  {
   "cell_type": "code",
   "execution_count": 4,
   "id": "5a976d45-d316-4973-a4dd-d55485868a68",
   "metadata": {},
   "outputs": [
    {
     "data": {
      "text/plain": [
       "[{'age': 59.0,\n",
       "  'sex': 2.0,\n",
       "  'HE_PLS_1': 60.0,\n",
       "  'HE_sbp': 131.0,\n",
       "  'HE_dbp': 85.0,\n",
       "  'HE_ht': 139.9,\n",
       "  'HE_wt': 42.9,\n",
       "  'HE_wc': 85.4,\n",
       "  'HE_BMI': 21.9190568572,\n",
       "  'HE_obe': 2.0},\n",
       " {'age': 33.0,\n",
       "  'sex': 2.0,\n",
       "  'HE_PLS_1': 64.0,\n",
       "  'HE_sbp': 111.0,\n",
       "  'HE_dbp': 80.0,\n",
       "  'HE_ht': 154.7,\n",
       "  'HE_wt': 49.8,\n",
       "  'HE_wc': 62.9,\n",
       "  'HE_BMI': 20.8088804613,\n",
       "  'HE_obe': 2.0},\n",
       " {'age': 58.0,\n",
       "  'sex': 1.0,\n",
       "  'HE_PLS_1': 64.0,\n",
       "  'HE_sbp': 132.0,\n",
       "  'HE_dbp': 75.0,\n",
       "  'HE_ht': 173.9,\n",
       "  'HE_wt': 72.0,\n",
       "  'HE_wc': 84.2,\n",
       "  'HE_BMI': 23.8085711517,\n",
       "  'HE_obe': 2.0}]"
      ]
     },
     "execution_count": 4,
     "metadata": {},
     "output_type": "execute_result"
    }
   ],
   "source": [
    "json_data"
   ]
  },
  {
   "cell_type": "code",
   "execution_count": 5,
   "id": "4633a480-b153-4612-9cbe-c71794b65b56",
   "metadata": {},
   "outputs": [],
   "source": [
    "with open('samples.json', 'w', encoding='utf-8') as make_file:\n",
    "\n",
    "    json.dump(json_data, make_file, indent=\"\\t\")"
   ]
  },
  {
   "cell_type": "code",
   "execution_count": 6,
   "id": "10bd5e4f-1647-41fa-b2f3-28b2f3f39b65",
   "metadata": {},
   "outputs": [
    {
     "data": {
      "text/plain": [
       "[{'age': 59.0,\n",
       "  'sex': 2.0,\n",
       "  'HE_PLS_1': 60.0,\n",
       "  'HE_sbp': 131.0,\n",
       "  'HE_dbp': 85.0,\n",
       "  'HE_ht': 139.9,\n",
       "  'HE_wt': 42.9,\n",
       "  'HE_wc': 85.4,\n",
       "  'HE_BMI': 21.9190568572,\n",
       "  'HE_obe': 2.0},\n",
       " {'age': 33.0,\n",
       "  'sex': 2.0,\n",
       "  'HE_PLS_1': 64.0,\n",
       "  'HE_sbp': 111.0,\n",
       "  'HE_dbp': 80.0,\n",
       "  'HE_ht': 154.7,\n",
       "  'HE_wt': 49.8,\n",
       "  'HE_wc': 62.9,\n",
       "  'HE_BMI': 20.8088804613,\n",
       "  'HE_obe': 2.0},\n",
       " {'age': 58.0,\n",
       "  'sex': 1.0,\n",
       "  'HE_PLS_1': 64.0,\n",
       "  'HE_sbp': 132.0,\n",
       "  'HE_dbp': 75.0,\n",
       "  'HE_ht': 173.9,\n",
       "  'HE_wt': 72.0,\n",
       "  'HE_wc': 84.2,\n",
       "  'HE_BMI': 23.8085711517,\n",
       "  'HE_obe': 2.0}]"
      ]
     },
     "execution_count": 6,
     "metadata": {},
     "output_type": "execute_result"
    }
   ],
   "source": [
    "with open('samples.json', 'r') as f:\n",
    "    json_data = json.load(f)\n",
    "\n",
    "json_data"
   ]
  },
  {
   "cell_type": "code",
   "execution_count": null,
   "id": "ac6c71a2-4f50-4e48-b750-37708305feec",
   "metadata": {},
   "outputs": [],
   "source": []
  }
 ],
 "metadata": {
  "kernelspec": {
   "display_name": "Python 3 (ipykernel)",
   "language": "python",
   "name": "python3"
  },
  "language_info": {
   "codemirror_mode": {
    "name": "ipython",
    "version": 3
   },
   "file_extension": ".py",
   "mimetype": "text/x-python",
   "name": "python",
   "nbconvert_exporter": "python",
   "pygments_lexer": "ipython3",
   "version": "3.8.16"
  }
 },
 "nbformat": 4,
 "nbformat_minor": 5
}
